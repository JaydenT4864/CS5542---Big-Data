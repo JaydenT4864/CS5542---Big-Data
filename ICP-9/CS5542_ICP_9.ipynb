{
  "nbformat": 4,
  "nbformat_minor": 0,
  "metadata": {
    "colab": {
      "name": "CS5542-ICP-9",
      "provenance": [],
      "collapsed_sections": []
    },
    "kernelspec": {
      "name": "python3",
      "display_name": "Python 3"
    },
    "language_info": {
      "name": "python"
    }
  },
  "cells": [
    {
      "cell_type": "code",
      "metadata": {
        "id": "9n0KD2NMgYH0",
        "colab": {
          "base_uri": "https://localhost:8080/"
        },
        "outputId": "0f816000-70e4-48cf-cedc-191c13797f50"
      },
      "source": [
        "import pandas as pd\n",
        "import numpy as np\n",
        "import matplotlib.pyplot as plt\n",
        "from sklearn import datasets, linear_model\n",
        "from sklearn.metrics import mean_squared_error, r2_score\n",
        "from sklearn.model_selection import train_test_split\n",
        "\n",
        "from google.colab import drive\n",
        "drive.mount('/content/drive')"
      ],
      "execution_count": 2,
      "outputs": [
        {
          "output_type": "stream",
          "name": "stdout",
          "text": [
            "Mounted at /content/drive\n"
          ]
        }
      ]
    },
    {
      "cell_type": "code",
      "metadata": {
        "id": "Zkde1wxZhgX9",
        "colab": {
          "base_uri": "https://localhost:8080/"
        },
        "outputId": "c8342d22-d5b8-41e1-e4ef-ea57bcb434aa"
      },
      "source": [
        "df = pd.read_csv(\"/content/drive/MyDrive/Study/CS5542 - Big data/ICP/ICP-9/estate.csv\")\n",
        "print(df)"
      ],
      "execution_count": 4,
      "outputs": [
        {
          "output_type": "stream",
          "name": "stdout",
          "text": [
            "      No  X1 transaction date  ...  X6 longitude  Y house price of unit area\n",
            "0      1             2012.917  ...     121.54024                        37.9\n",
            "1      2             2012.917  ...     121.53951                        42.2\n",
            "2      3             2013.583  ...     121.54391                        47.3\n",
            "3      4             2013.500  ...     121.54391                        54.8\n",
            "4      5             2012.833  ...     121.54245                        43.1\n",
            "..   ...                  ...  ...           ...                         ...\n",
            "409  410             2013.000  ...     121.50381                        15.4\n",
            "410  411             2012.667  ...     121.54310                        50.0\n",
            "411  412             2013.250  ...     121.53986                        40.6\n",
            "412  413             2013.000  ...     121.54067                        52.5\n",
            "413  414             2013.500  ...     121.54310                        63.9\n",
            "\n",
            "[414 rows x 8 columns]\n"
          ]
        }
      ]
    },
    {
      "cell_type": "code",
      "metadata": {
        "colab": {
          "base_uri": "https://localhost:8080/"
        },
        "id": "gu0Zsb_QiREy",
        "outputId": "a1c52255-7d1f-4258-9453-740e9019cf65"
      },
      "source": [
        "df.shape"
      ],
      "execution_count": 5,
      "outputs": [
        {
          "output_type": "execute_result",
          "data": {
            "text/plain": [
              "(414, 8)"
            ]
          },
          "metadata": {},
          "execution_count": 5
        }
      ]
    },
    {
      "cell_type": "code",
      "metadata": {
        "id": "91C3wGT_iazW",
        "colab": {
          "base_uri": "https://localhost:8080/"
        },
        "outputId": "93add27e-e006-4738-e1f5-8c46488ab459"
      },
      "source": [
        "X = df['X2 house age']\n",
        "y = df['Y house price of unit area']\n",
        "X_train, X_test, y_train, y_test = train_test_split(X, y, test_size = 0.2, random_state = 2)\n",
        "reg = linear_model.LinearRegression()\n",
        "reg.fit(X_train.values.reshape((-1, 1)), y_train)\n",
        "pred = reg.predict(X_test.values.reshape((-1, 1)))\n",
        "\n",
        "print(\"Coefficients: \", reg.coef_)\n",
        "print(\"Mean squared error: %.2f\" % mean_squared_error(y_test, pred))\n",
        "print(\"Coefficient of determination: %.2f\" % r2_score(y_test, pred))"
      ],
      "execution_count": 12,
      "outputs": [
        {
          "output_type": "stream",
          "name": "stdout",
          "text": [
            "Coefficients:  [-0.21935815]\n",
            "Mean squared error: 216.19\n",
            "Coefficient of determination: 0.02\n"
          ]
        }
      ]
    },
    {
      "cell_type": "code",
      "metadata": {
        "colab": {
          "base_uri": "https://localhost:8080/"
        },
        "id": "FNhxtk__Hrbo",
        "outputId": "c6c7274e-8796-4f7f-ccb3-923f54b25e97"
      },
      "source": [
        "reg.intercept_"
      ],
      "execution_count": 13,
      "outputs": [
        {
          "output_type": "execute_result",
          "data": {
            "text/plain": [
              "42.45580682379793"
            ]
          },
          "metadata": {},
          "execution_count": 13
        }
      ]
    },
    {
      "cell_type": "code",
      "metadata": {
        "colab": {
          "base_uri": "https://localhost:8080/",
          "height": 265
        },
        "id": "oephiBlHMhTD",
        "outputId": "01929ee7-c5bd-454e-f302-9a0eed1a2e84"
      },
      "source": [
        "plt.scatter(X_test, y_test,color='g')\n",
        "plt.plot(X_test, reg.predict(X_test.values.reshape((-1, 1))),color='k')\n",
        "\n",
        "plt.show()"
      ],
      "execution_count": 14,
      "outputs": [
        {
          "output_type": "display_data",
          "data": {
            "image/png": "[encoded data removed]",
            "text/plain": [
              "<Figure size 432x288 with 1 Axes>"
            ]
          },
          "metadata": {
            "needs_background": "light"
          }
        }
      ]
    }
  ]
}