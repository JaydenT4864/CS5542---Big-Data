{
  "nbformat": 4,
  "nbformat_minor": 0,
  "metadata": {
    "colab": {
      "name": "CS5542-ICP-4",
      "provenance": [],
      "collapsed_sections": []
    },
    "kernelspec": {
      "name": "python3",
      "display_name": "Python 3"
    },
    "language_info": {
      "name": "python"
    }
  },
  "cells": [
    {
      "cell_type": "code",
      "metadata": {
        "id": "BhScMTyfCOrL",
        "colab": {
          "base_uri": "https://localhost:8080/"
        },
        "outputId": "55149a3e-d26a-4bf8-848b-0e2c5785a676"
      },
      "source": [
        "import pandas as pd\n",
        "import numpy as np\n",
        "import re\n",
        "import nltk\n",
        "from nltk.corpus import stopwords\n",
        "\n",
        "from numpy import array\n",
        "from keras.preprocessing.text import one_hot\n",
        "from keras.preprocessing.sequence import pad_sequences\n",
        "from keras.models import Sequential\n",
        "from keras.layers.core import Activation, Dropout, Dense\n",
        "from keras.layers import Flatten\n",
        "from keras.layers import GlobalMaxPooling1D\n",
        "from keras.layers.embeddings import Embedding\n",
        "from sklearn.model_selection import train_test_split\n",
        "from keras.preprocessing.text import Tokenizer\n",
        "\n",
        "seed = 55\n",
        "data = pd.read_csv('https://raw.githubusercontent.com/dD2405/Twitter_Sentiment_Analysis/master/train.csv')\n",
        "\n",
        "print(data)"
      ],
      "execution_count": 22,
      "outputs": [
        {
          "output_type": "stream",
          "name": "stdout",
          "text": [
            "          id  label                                              tweet\n",
            "0          1      0   @user when a father is dysfunctional and is s...\n",
            "1          2      0  @user @user thanks for #lyft credit i can't us...\n",
            "2          3      0                                bihday your majesty\n",
            "3          4      0  #model   i love u take with u all the time in ...\n",
            "4          5      0             factsguide: society now    #motivation\n",
            "...      ...    ...                                                ...\n",
            "31957  31958      0  ate @user isz that youuu?ðððððð...\n",
            "31958  31959      0    to see nina turner on the airwaves trying to...\n",
            "31959  31960      0  listening to sad songs on a monday morning otw...\n",
            "31960  31961      1  @user #sikh #temple vandalised in in #calgary,...\n",
            "31961  31962      0                   thank you @user for you follow  \n",
            "\n",
            "[31962 rows x 3 columns]\n"
          ]
        }
      ]
    },
    {
      "cell_type": "code",
      "metadata": {
        "id": "J7C3XHXlEbO1"
      },
      "source": [
        "# preprocess data\n",
        "import re\n",
        "import string\n",
        "\n",
        "features = data.iloc[:, 2].values\n",
        "\n",
        "for i in range(len(features)):\n",
        "  features[i] = features[i].replace(\"@user\", \"\")\n",
        "  features[i] = features[i].translate(str.maketrans('', '', string.punctuation))\n",
        "  features[i] = ''.join(i for i in features[i] if not i.isdigit())\n",
        "  features[i] = re.sub(r'\\s+', ' ', features[i], flags=re.I)\n",
        "  features[i] = features[i].lower()\n",
        "  features[i] = data.iloc[:, 2].values[i]"
      ],
      "execution_count": 28,
      "outputs": []
    },
    {
      "cell_type": "code",
      "metadata": {
        "colab": {
          "base_uri": "https://localhost:8080/"
        },
        "id": "OqKcKje2FlUu",
        "outputId": "63627ede-c574-4d26-8a71-245e924df687"
      },
      "source": [
        "print(data.head(25))"
      ],
      "execution_count": 29,
      "outputs": [
        {
          "output_type": "stream",
          "name": "stdout",
          "text": [
            "    id  label                                              tweet\n",
            "0    1      0   when a father is dysfunctional and is so self...\n",
            "1    2      0   thanks for lyft credit i cant use cause they ...\n",
            "2    3      0                                bihday your majesty\n",
            "3    4      0  model i love u take with u all the time in urð...\n",
            "4    5      0                  factsguide society now motivation\n",
            "5    6      0   huge fan fare and big talking before they lea...\n",
            "6    7      0                          camping tomorrow dannyâ¦\n",
            "7    8      0  the next school year is the year for examsð¯...\n",
            "8    9      0  we won love the land allin cavs champions clev...\n",
            "9   10      0                         welcome here im its so gr \n",
            "10  11      0   â ireland consumer price index mom climbed ...\n",
            "11  12      0  we are so selfish orlando standwithorlando pul...\n",
            "12  13      0        i get to see my daddy today days gettingfed\n",
            "13  14      1   cnn calls michigan middle school build the wa...\n",
            "14  15      1  no comment in australia opkillingbay seashephe...\n",
            "15  16      0     ouchjunior is angryðgot junior yugyoem omg \n",
            "16  17      0  i am thankful for having a paner thankful posi...\n",
            "17  18      1                              retweet if you agree \n",
            "18  19      0  its friday ð smiles all around via ig user ...\n",
            "19  20      0  as we all know essential oils are not made of ...\n",
            "20  21      0  euro people blaming ha for conceded goal was i...\n",
            "21  22      0  sad little dude badday coneofshame cats pissed...\n",
            "22  23      0  product of the day happy man wine tool whos it...\n",
            "23  24      1                   lumpy says i am a prove it lumpy\n",
            "24  25      0   tgif ff to my gamedev indiedev indiegamedev s...\n"
          ]
        }
      ]
    },
    {
      "cell_type": "code",
      "metadata": {
        "id": "ijCZNs-cTlB4",
        "colab": {
          "base_uri": "https://localhost:8080/"
        },
        "outputId": "489786ff-0f83-4344-eb79-e23a002db99e"
      },
      "source": [
        "from sklearn.model_selection import train_test_split\n",
        "\n",
        "features = data.iloc[:, 2].values\n",
        "labels = data.iloc[:, 1].values\n",
        "\n",
        "X_train, X_test, y_train, y_test = train_test_split(features, labels, test_size=0.2, random_state=0)\n",
        "\n",
        "print(X_train, len(X_train))\n",
        "print(X_test)\n",
        "print(y_train, len(y_train))\n",
        "print(y_test)\n"
      ],
      "execution_count": 30,
      "outputs": [
        {
          "output_type": "stream",
          "name": "stdout",
          "text": [
            "['how could you all ever lose your faith in me pain mistrust relationship outcast twitter life love friendship cruel'\n",
            " 'my name often times auto corrects to leukemia '\n",
            " 'suddenly staing to feel real now im finished both jobs ð\\x9f\\x98» ' ...\n",
            " 'another melbourne snap this guy played the most beautiful sounding instrument streetphotography '\n",
            " ' thanks for the retweet '\n",
            " ' kicks off today check out the full list of guests were to see this weekend '] 25569\n",
            "['i am thankful for sunshinethankful positive '\n",
            " 'up latei am tired but i cant sleep my eyes are swollen from crying my brothers and sisters ð\\x9f\\x91\\xadð\\x9f\\x91¬ð\\x9f\\x8c\\x88ð\\x9f\\x91¼ð\\x9f\\x99\\x8fð\\x9f\\x98¢ prayfoheworld pulse help'\n",
            " 'series finale of house of lies tonight ' ...\n",
            " ' pls norfolkhour the eaaa norfolk polo festival stas tomorrow '\n",
            " 'every lactation consultant ive ever met has been a woman hello '\n",
            " ' so easy subscribe and feel level lifestyle vlogger rotterdam foodies fun ']\n",
            "[0 0 0 ... 0 0 0] 25569\n",
            "[0 0 0 ... 0 1 0]\n"
          ]
        }
      ]
    },
    {
      "cell_type": "code",
      "metadata": {
        "colab": {
          "base_uri": "https://localhost:8080/",
          "height": 296
        },
        "id": "vMmSGuldbcHt",
        "outputId": "ed063fc2-feb8-43e4-a79a-05e176e326e8"
      },
      "source": [
        "import seaborn as sns\n",
        "\n",
        "sns.countplot(x='label', data=data)"
      ],
      "execution_count": 31,
      "outputs": [
        {
          "output_type": "execute_result",
          "data": {
            "text/plain": [
              "<matplotlib.axes._subplots.AxesSubplot at 0x7f6750856a90>"
            ]
          },
          "metadata": {},
          "execution_count": 31
        },
        {
          "output_type": "display_data",
          "data": {
            "image/png": "[encoded data removed]",
            "text/plain": [
              "<Figure size 432x288 with 1 Axes>"
            ]
          },
          "metadata": {
            "needs_background": "light"
          }
        }
      ]
    },
    {
      "cell_type": "code",
      "metadata": {
        "id": "15ADzOHpcz2D"
      },
      "source": [
        "tokenizer = Tokenizer(num_words=5000)\n",
        "tokenizer.fit_on_texts(X_train)\n",
        "\n",
        "X_train = tokenizer.texts_to_sequences(X_train)\n",
        "X_test = tokenizer.texts_to_sequences(X_test)\n",
        "\n",
        "\n",
        "vocab_size = len(tokenizer.word_index) + 1\n",
        "\n",
        "maxlen = 255\n",
        "\n",
        "X_train = pad_sequences(X_train, padding='post', maxlen=maxlen)\n",
        "X_test = pad_sequences(X_test, padding='post', maxlen=maxlen)"
      ],
      "execution_count": 32,
      "outputs": []
    },
    {
      "cell_type": "code",
      "metadata": {
        "colab": {
          "base_uri": "https://localhost:8080/"
        },
        "id": "TIMx9-jhdBkY",
        "outputId": "84d32267-6fa8-4be9-8234-e131ac182959"
      },
      "source": [
        "print(X_train, len(X_train))\n",
        "print(X_test, len(X_test))"
      ],
      "execution_count": 12,
      "outputs": [
        {
          "output_type": "stream",
          "name": "stdout",
          "text": [
            "[[0 0 0 ... 0 0 0]\n",
            " [0 0 0 ... 0 0 0]\n",
            " [0 0 0 ... 0 0 0]\n",
            " ...\n",
            " [0 0 0 ... 0 0 0]\n",
            " [0 0 0 ... 0 0 0]\n",
            " [0 0 0 ... 0 0 0]] 25569\n",
            "[[0 0 0 ... 0 0 0]\n",
            " [0 0 0 ... 0 0 0]\n",
            " [0 0 0 ... 0 0 0]\n",
            " ...\n",
            " [0 0 0 ... 0 0 0]\n",
            " [0 0 0 ... 0 0 0]\n",
            " [0 0 0 ... 0 0 0]] 6393\n"
          ]
        }
      ]
    },
    {
      "cell_type": "code",
      "metadata": {
        "id": "JbM8rLxEdgMd",
        "colab": {
          "base_uri": "https://localhost:8080/"
        },
        "outputId": "31e4953b-2fb4-4f68-f381-22d27452057c"
      },
      "source": [
        "embedding_layer = Embedding(vocab_size, 100, input_length=maxlen)\n",
        "model = Sequential()\n",
        "model.add(embedding_layer)\n",
        "\n",
        "model.add(Flatten())\n",
        "model.add(Dense(1, activation='sigmoid'))\n",
        "\n",
        "model.compile(optimizer='adam', loss='binary_crossentropy', metrics=['acc'])\n",
        "\n",
        "print(model.summary())"
      ],
      "execution_count": 33,
      "outputs": [
        {
          "output_type": "stream",
          "name": "stdout",
          "text": [
            "Model: \"sequential_2\"\n",
            "_________________________________________________________________\n",
            " Layer (type)                Output Shape              Param #   \n",
            "=================================================================\n",
            " embedding_2 (Embedding)     (None, 255, 100)          3944200   \n",
            "                                                                 \n",
            " flatten_2 (Flatten)         (None, 25500)             0         \n",
            "                                                                 \n",
            " dense_2 (Dense)             (None, 1)                 25501     \n",
            "                                                                 \n",
            "=================================================================\n",
            "Total params: 3,969,701\n",
            "Trainable params: 3,969,701\n",
            "Non-trainable params: 0\n",
            "_________________________________________________________________\n",
            "None\n"
          ]
        }
      ]
    },
    {
      "cell_type": "code",
      "metadata": {
        "colab": {
          "base_uri": "https://localhost:8080/"
        },
        "id": "BLsn6CH4eB3t",
        "outputId": "2423cdd5-2a84-48d4-de3d-9fad43aaa2d1"
      },
      "source": [
        "history = model.fit(X_train, y_train, batch_size=128, epochs=20, verbose=1, validation_split=0.2)"
      ],
      "execution_count": 34,
      "outputs": [
        {
          "output_type": "stream",
          "name": "stdout",
          "text": [
            "Epoch 1/20\n",
            "160/160 [==============================] - 12s 74ms/step - loss: 0.2378 - acc: 0.9249 - val_loss: 0.1713 - val_acc: 0.9392\n",
            "Epoch 2/20\n",
            "160/160 [==============================] - 12s 73ms/step - loss: 0.1190 - acc: 0.9550 - val_loss: 0.1309 - val_acc: 0.9517\n",
            "Epoch 3/20\n",
            "160/160 [==============================] - 11s 71ms/step - loss: 0.0742 - acc: 0.9730 - val_loss: 0.1257 - val_acc: 0.9560\n",
            "Epoch 4/20\n",
            "160/160 [==============================] - 11s 70ms/step - loss: 0.0509 - acc: 0.9841 - val_loss: 0.1264 - val_acc: 0.9583\n",
            "Epoch 5/20\n",
            "160/160 [==============================] - 11s 71ms/step - loss: 0.0348 - acc: 0.9895 - val_loss: 0.1314 - val_acc: 0.9593\n",
            "Epoch 6/20\n",
            "160/160 [==============================] - 12s 75ms/step - loss: 0.0240 - acc: 0.9942 - val_loss: 0.1386 - val_acc: 0.9582\n",
            "Epoch 7/20\n",
            "160/160 [==============================] - 12s 73ms/step - loss: 0.0172 - acc: 0.9966 - val_loss: 0.1445 - val_acc: 0.9564\n",
            "Epoch 8/20\n",
            "160/160 [==============================] - 11s 70ms/step - loss: 0.0126 - acc: 0.9979 - val_loss: 0.1542 - val_acc: 0.9560\n",
            "Epoch 9/20\n",
            "160/160 [==============================] - 11s 69ms/step - loss: 0.0097 - acc: 0.9984 - val_loss: 0.1577 - val_acc: 0.9560\n",
            "Epoch 10/20\n",
            "160/160 [==============================] - 11s 70ms/step - loss: 0.0077 - acc: 0.9988 - val_loss: 0.1685 - val_acc: 0.9562\n",
            "Epoch 11/20\n",
            "160/160 [==============================] - 12s 72ms/step - loss: 0.0061 - acc: 0.9991 - val_loss: 0.1729 - val_acc: 0.9558\n",
            "Epoch 12/20\n",
            "160/160 [==============================] - 12s 72ms/step - loss: 0.0051 - acc: 0.9992 - val_loss: 0.1793 - val_acc: 0.9560\n",
            "Epoch 13/20\n",
            "160/160 [==============================] - 11s 69ms/step - loss: 0.0042 - acc: 0.9995 - val_loss: 0.1847 - val_acc: 0.9558\n",
            "Epoch 14/20\n",
            "160/160 [==============================] - 11s 69ms/step - loss: 0.0036 - acc: 0.9996 - val_loss: 0.1864 - val_acc: 0.9537\n",
            "Epoch 15/20\n",
            "160/160 [==============================] - 11s 70ms/step - loss: 0.0031 - acc: 0.9997 - val_loss: 0.2002 - val_acc: 0.9554\n",
            "Epoch 16/20\n",
            "160/160 [==============================] - 11s 70ms/step - loss: 0.0027 - acc: 0.9997 - val_loss: 0.2005 - val_acc: 0.9548\n",
            "Epoch 17/20\n",
            "160/160 [==============================] - 11s 70ms/step - loss: 0.0024 - acc: 0.9997 - val_loss: 0.2022 - val_acc: 0.9540\n",
            "Epoch 18/20\n",
            "160/160 [==============================] - 11s 71ms/step - loss: 0.0021 - acc: 0.9998 - val_loss: 0.2117 - val_acc: 0.9548\n",
            "Epoch 19/20\n",
            "160/160 [==============================] - 11s 70ms/step - loss: 0.0019 - acc: 0.9997 - val_loss: 0.2160 - val_acc: 0.9546\n",
            "Epoch 20/20\n",
            "160/160 [==============================] - 12s 73ms/step - loss: 0.0018 - acc: 0.9998 - val_loss: 0.2161 - val_acc: 0.9539\n"
          ]
        }
      ]
    },
    {
      "cell_type": "code",
      "metadata": {
        "id": "i1DVLG2neGKH",
        "colab": {
          "base_uri": "https://localhost:8080/"
        },
        "outputId": "60989ffa-c238-4119-be39-06e6e1ded4c1"
      },
      "source": [
        "loss, accuracy = model.evaluate(X_test, y_test, verbose=0)\n",
        "\n",
        "print(loss)\n",
        "\n",
        "\n",
        "print('Accuracy: %f' % (accuracy*100))"
      ],
      "execution_count": 35,
      "outputs": [
        {
          "output_type": "stream",
          "name": "stdout",
          "text": [
            "0.22978468239307404\n",
            "Accuracy: 95.510715\n"
          ]
        }
      ]
    },
    {
      "cell_type": "code",
      "metadata": {
        "colab": {
          "base_uri": "https://localhost:8080/",
          "height": 573
        },
        "id": "T_0tnhutTLxq",
        "outputId": "2b507e02-4a5e-4d0b-e0ea-f214139f3c5e"
      },
      "source": [
        "import matplotlib.pyplot as plt\n",
        "\n",
        "plt.plot(history.history['acc'])\n",
        "plt.plot(history.history['val_acc'])\n",
        "\n",
        "plt.title('model accuracy')\n",
        "plt.ylabel('accuracy')\n",
        "plt.xlabel('epoch')\n",
        "plt.legend(['train','test'], loc='upper left')\n",
        "plt.show()\n",
        "\n",
        "plt.plot(history.history['loss'])\n",
        "plt.plot(history.history['val_loss'])\n",
        "\n",
        "plt.title('model loss')\n",
        "plt.ylabel('loss')\n",
        "plt.xlabel('epoch')\n",
        "plt.legend(['train','test'], loc='upper left')\n",
        "plt.show()"
      ],
      "execution_count": 36,
      "outputs": [
        {
          "output_type": "display_data",
          "data": {
            "image/png": "[encoded data removed]",
            "text/plain": [
              "<Figure size 432x288 with 1 Axes>"
            ]
          },
          "metadata": {
            "needs_background": "light"
          }
        },
        {
          "output_type": "display_data",
          "data": {
            "image/png": "[encoded data removed]",
            "text/plain": [
              "<Figure size 432x288 with 1 Axes>"
            ]
          },
          "metadata": {
            "needs_background": "light"
          }
        }
      ]
    },
    {
      "cell_type": "code",
      "metadata": {
        "colab": {
          "base_uri": "https://localhost:8080/"
        },
        "id": "BGO3EHf9VATc",
        "outputId": "05415b86-3734-4b92-e7e9-48b560c3317b"
      },
      "source": [
        "print(features[30])\n",
        "print(features[25])\n",
        "print(features[55])"
      ],
      "execution_count": 37,
      "outputs": [
        {
          "output_type": "stream",
          "name": "stdout",
          "text": [
            "i have never had a chance to vote for a presidential candidate i was excited about and this cycle looks to be no different \n",
            "beautiful sign by vendor for upsideofflorida shopalyssas love \n",
            "a scourge on those playing baroque pieces on piano beyond belief \n"
          ]
        }
      ]
    },
    {
      "cell_type": "code",
      "metadata": {
        "colab": {
          "base_uri": "https://localhost:8080/"
        },
        "id": "d-gHlSGuVMq6",
        "outputId": "19f15fd1-88bd-4e75-e865-58c2c4a4a97e"
      },
      "source": [
        "instance = tokenizer.texts_to_sequences(sentence)\n",
        "\n",
        "flat_list = []\n",
        "for sublist in instance:\n",
        "    for item in sublist:\n",
        "        flat_list.append(item)\n",
        "\n",
        "flat_list = [flat_list]\n",
        "\n",
        "instance = pad_sequences(flat_list, padding='post', maxlen=maxlen)\n",
        "\n",
        "model.predict(instance)"
      ],
      "execution_count": 38,
      "outputs": [
        {
          "output_type": "execute_result",
          "data": {
            "text/plain": [
              "array([[8.421815e-05]], dtype=float32)"
            ]
          },
          "metadata": {},
          "execution_count": 38
        }
      ]
    }
  ]
}